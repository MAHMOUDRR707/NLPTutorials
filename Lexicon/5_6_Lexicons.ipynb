{
  "cells": [
    {
      "cell_type": "code",
      "source": [
        "import nltk\n",
        "nltk.download('all')\n",
        "\n"
      ],
      "metadata": {
        "id": "mjHfOl7WI1zD",
        "outputId": "fe10233f-1e36-4490-ed24-67f8b7efe401",
        "colab": {
          "base_uri": "https://localhost:8080/"
        }
      },
      "execution_count": 9,
      "outputs": [
        {
          "output_type": "stream",
          "name": "stderr",
          "text": [
            "[nltk_data] Downloading collection 'all'\n",
            "[nltk_data]    | \n",
            "[nltk_data]    | Downloading package abc to /root/nltk_data...\n",
            "[nltk_data]    |   Unzipping corpora/abc.zip.\n",
            "[nltk_data]    | Downloading package alpino to /root/nltk_data...\n",
            "[nltk_data]    |   Unzipping corpora/alpino.zip.\n",
            "[nltk_data]    | Downloading package averaged_perceptron_tagger to\n",
            "[nltk_data]    |     /root/nltk_data...\n",
            "[nltk_data]    |   Package averaged_perceptron_tagger is already up-\n",
            "[nltk_data]    |       to-date!\n",
            "[nltk_data]    | Downloading package averaged_perceptron_tagger_ru to\n",
            "[nltk_data]    |     /root/nltk_data...\n",
            "[nltk_data]    |   Unzipping\n",
            "[nltk_data]    |       taggers/averaged_perceptron_tagger_ru.zip.\n",
            "[nltk_data]    | Downloading package basque_grammars to\n",
            "[nltk_data]    |     /root/nltk_data...\n",
            "[nltk_data]    |   Unzipping grammars/basque_grammars.zip.\n",
            "[nltk_data]    | Downloading package biocreative_ppi to\n",
            "[nltk_data]    |     /root/nltk_data...\n",
            "[nltk_data]    |   Unzipping corpora/biocreative_ppi.zip.\n",
            "[nltk_data]    | Downloading package bllip_wsj_no_aux to\n",
            "[nltk_data]    |     /root/nltk_data...\n",
            "[nltk_data]    |   Unzipping models/bllip_wsj_no_aux.zip.\n",
            "[nltk_data]    | Downloading package book_grammars to\n",
            "[nltk_data]    |     /root/nltk_data...\n",
            "[nltk_data]    |   Unzipping grammars/book_grammars.zip.\n",
            "[nltk_data]    | Downloading package brown to /root/nltk_data...\n",
            "[nltk_data]    |   Unzipping corpora/brown.zip.\n",
            "[nltk_data]    | Downloading package brown_tei to /root/nltk_data...\n",
            "[nltk_data]    |   Unzipping corpora/brown_tei.zip.\n",
            "[nltk_data]    | Downloading package cess_cat to /root/nltk_data...\n",
            "[nltk_data]    |   Unzipping corpora/cess_cat.zip.\n",
            "[nltk_data]    | Downloading package cess_esp to /root/nltk_data...\n",
            "[nltk_data]    |   Unzipping corpora/cess_esp.zip.\n",
            "[nltk_data]    | Downloading package chat80 to /root/nltk_data...\n",
            "[nltk_data]    |   Unzipping corpora/chat80.zip.\n",
            "[nltk_data]    | Downloading package city_database to\n",
            "[nltk_data]    |     /root/nltk_data...\n",
            "[nltk_data]    |   Unzipping corpora/city_database.zip.\n",
            "[nltk_data]    | Downloading package cmudict to /root/nltk_data...\n",
            "[nltk_data]    |   Unzipping corpora/cmudict.zip.\n",
            "[nltk_data]    | Downloading package comparative_sentences to\n",
            "[nltk_data]    |     /root/nltk_data...\n",
            "[nltk_data]    |   Unzipping corpora/comparative_sentences.zip.\n",
            "[nltk_data]    | Downloading package comtrans to /root/nltk_data...\n",
            "[nltk_data]    | Downloading package conll2000 to /root/nltk_data...\n",
            "[nltk_data]    |   Unzipping corpora/conll2000.zip.\n",
            "[nltk_data]    | Downloading package conll2002 to /root/nltk_data...\n",
            "[nltk_data]    |   Unzipping corpora/conll2002.zip.\n",
            "[nltk_data]    | Downloading package conll2007 to /root/nltk_data...\n",
            "[nltk_data]    | Downloading package crubadan to /root/nltk_data...\n",
            "[nltk_data]    |   Unzipping corpora/crubadan.zip.\n",
            "[nltk_data]    | Downloading package dependency_treebank to\n",
            "[nltk_data]    |     /root/nltk_data...\n",
            "[nltk_data]    |   Unzipping corpora/dependency_treebank.zip.\n",
            "[nltk_data]    | Downloading package dolch to /root/nltk_data...\n",
            "[nltk_data]    |   Unzipping corpora/dolch.zip.\n",
            "[nltk_data]    | Downloading package europarl_raw to\n",
            "[nltk_data]    |     /root/nltk_data...\n",
            "[nltk_data]    |   Unzipping corpora/europarl_raw.zip.\n",
            "[nltk_data]    | Downloading package extended_omw to\n",
            "[nltk_data]    |     /root/nltk_data...\n",
            "[nltk_data]    | Downloading package floresta to /root/nltk_data...\n",
            "[nltk_data]    |   Unzipping corpora/floresta.zip.\n",
            "[nltk_data]    | Downloading package framenet_v15 to\n",
            "[nltk_data]    |     /root/nltk_data...\n",
            "[nltk_data]    |   Unzipping corpora/framenet_v15.zip.\n",
            "[nltk_data]    | Downloading package framenet_v17 to\n",
            "[nltk_data]    |     /root/nltk_data...\n",
            "[nltk_data]    |   Unzipping corpora/framenet_v17.zip.\n",
            "[nltk_data]    | Downloading package gazetteers to /root/nltk_data...\n",
            "[nltk_data]    |   Unzipping corpora/gazetteers.zip.\n",
            "[nltk_data]    | Downloading package genesis to /root/nltk_data...\n",
            "[nltk_data]    |   Unzipping corpora/genesis.zip.\n",
            "[nltk_data]    | Downloading package gutenberg to /root/nltk_data...\n",
            "[nltk_data]    |   Unzipping corpora/gutenberg.zip.\n",
            "[nltk_data]    | Downloading package ieer to /root/nltk_data...\n",
            "[nltk_data]    |   Unzipping corpora/ieer.zip.\n",
            "[nltk_data]    | Downloading package inaugural to /root/nltk_data...\n",
            "[nltk_data]    |   Unzipping corpora/inaugural.zip.\n",
            "[nltk_data]    | Downloading package indian to /root/nltk_data...\n",
            "[nltk_data]    |   Unzipping corpora/indian.zip.\n",
            "[nltk_data]    | Downloading package jeita to /root/nltk_data...\n",
            "[nltk_data]    | Downloading package kimmo to /root/nltk_data...\n",
            "[nltk_data]    |   Unzipping corpora/kimmo.zip.\n",
            "[nltk_data]    | Downloading package knbc to /root/nltk_data...\n",
            "[nltk_data]    | Downloading package large_grammars to\n",
            "[nltk_data]    |     /root/nltk_data...\n",
            "[nltk_data]    |   Unzipping grammars/large_grammars.zip.\n",
            "[nltk_data]    | Downloading package lin_thesaurus to\n",
            "[nltk_data]    |     /root/nltk_data...\n",
            "[nltk_data]    |   Unzipping corpora/lin_thesaurus.zip.\n",
            "[nltk_data]    | Downloading package mac_morpho to /root/nltk_data...\n",
            "[nltk_data]    |   Unzipping corpora/mac_morpho.zip.\n",
            "[nltk_data]    | Downloading package machado to /root/nltk_data...\n",
            "[nltk_data]    | Downloading package masc_tagged to /root/nltk_data...\n",
            "[nltk_data]    | Downloading package maxent_ne_chunker to\n",
            "[nltk_data]    |     /root/nltk_data...\n",
            "[nltk_data]    |   Unzipping chunkers/maxent_ne_chunker.zip.\n",
            "[nltk_data]    | Downloading package maxent_treebank_pos_tagger to\n",
            "[nltk_data]    |     /root/nltk_data...\n",
            "[nltk_data]    |   Unzipping taggers/maxent_treebank_pos_tagger.zip.\n",
            "[nltk_data]    | Downloading package moses_sample to\n",
            "[nltk_data]    |     /root/nltk_data...\n",
            "[nltk_data]    |   Unzipping models/moses_sample.zip.\n",
            "[nltk_data]    | Downloading package movie_reviews to\n",
            "[nltk_data]    |     /root/nltk_data...\n",
            "[nltk_data]    |   Unzipping corpora/movie_reviews.zip.\n",
            "[nltk_data]    | Downloading package mte_teip5 to /root/nltk_data...\n",
            "[nltk_data]    |   Unzipping corpora/mte_teip5.zip.\n",
            "[nltk_data]    | Downloading package mwa_ppdb to /root/nltk_data...\n",
            "[nltk_data]    |   Unzipping misc/mwa_ppdb.zip.\n",
            "[nltk_data]    | Downloading package names to /root/nltk_data...\n",
            "[nltk_data]    |   Unzipping corpora/names.zip.\n",
            "[nltk_data]    | Downloading package nombank.1.0 to /root/nltk_data...\n",
            "[nltk_data]    | Downloading package nonbreaking_prefixes to\n",
            "[nltk_data]    |     /root/nltk_data...\n",
            "[nltk_data]    |   Unzipping corpora/nonbreaking_prefixes.zip.\n",
            "[nltk_data]    | Downloading package nps_chat to /root/nltk_data...\n",
            "[nltk_data]    |   Unzipping corpora/nps_chat.zip.\n",
            "[nltk_data]    | Downloading package omw to /root/nltk_data...\n",
            "[nltk_data]    | Downloading package omw-1.4 to /root/nltk_data...\n",
            "[nltk_data]    | Downloading package opinion_lexicon to\n",
            "[nltk_data]    |     /root/nltk_data...\n",
            "[nltk_data]    |   Unzipping corpora/opinion_lexicon.zip.\n",
            "[nltk_data]    | Downloading package panlex_swadesh to\n",
            "[nltk_data]    |     /root/nltk_data...\n",
            "[nltk_data]    | Downloading package paradigms to /root/nltk_data...\n",
            "[nltk_data]    |   Unzipping corpora/paradigms.zip.\n",
            "[nltk_data]    | Downloading package pe08 to /root/nltk_data...\n",
            "[nltk_data]    |   Unzipping corpora/pe08.zip.\n",
            "[nltk_data]    | Downloading package perluniprops to\n",
            "[nltk_data]    |     /root/nltk_data...\n",
            "[nltk_data]    |   Unzipping misc/perluniprops.zip.\n",
            "[nltk_data]    | Downloading package pil to /root/nltk_data...\n",
            "[nltk_data]    |   Unzipping corpora/pil.zip.\n",
            "[nltk_data]    | Downloading package pl196x to /root/nltk_data...\n",
            "[nltk_data]    |   Unzipping corpora/pl196x.zip.\n",
            "[nltk_data]    | Downloading package porter_test to /root/nltk_data...\n",
            "[nltk_data]    |   Unzipping stemmers/porter_test.zip.\n",
            "[nltk_data]    | Downloading package ppattach to /root/nltk_data...\n",
            "[nltk_data]    |   Unzipping corpora/ppattach.zip.\n",
            "[nltk_data]    | Downloading package problem_reports to\n",
            "[nltk_data]    |     /root/nltk_data...\n",
            "[nltk_data]    |   Unzipping corpora/problem_reports.zip.\n",
            "[nltk_data]    | Downloading package product_reviews_1 to\n",
            "[nltk_data]    |     /root/nltk_data...\n",
            "[nltk_data]    |   Unzipping corpora/product_reviews_1.zip.\n",
            "[nltk_data]    | Downloading package product_reviews_2 to\n",
            "[nltk_data]    |     /root/nltk_data...\n",
            "[nltk_data]    |   Unzipping corpora/product_reviews_2.zip.\n",
            "[nltk_data]    | Downloading package propbank to /root/nltk_data...\n",
            "[nltk_data]    | Downloading package pros_cons to /root/nltk_data...\n",
            "[nltk_data]    |   Unzipping corpora/pros_cons.zip.\n",
            "[nltk_data]    | Downloading package ptb to /root/nltk_data...\n",
            "[nltk_data]    |   Unzipping corpora/ptb.zip.\n",
            "[nltk_data]    | Downloading package punkt to /root/nltk_data...\n",
            "[nltk_data]    |   Unzipping tokenizers/punkt.zip.\n",
            "[nltk_data]    | Downloading package qc to /root/nltk_data...\n",
            "[nltk_data]    |   Unzipping corpora/qc.zip.\n",
            "[nltk_data]    | Downloading package reuters to /root/nltk_data...\n",
            "[nltk_data]    | Downloading package rslp to /root/nltk_data...\n",
            "[nltk_data]    |   Unzipping stemmers/rslp.zip.\n",
            "[nltk_data]    | Downloading package rte to /root/nltk_data...\n",
            "[nltk_data]    |   Unzipping corpora/rte.zip.\n",
            "[nltk_data]    | Downloading package sample_grammars to\n",
            "[nltk_data]    |     /root/nltk_data...\n",
            "[nltk_data]    |   Unzipping grammars/sample_grammars.zip.\n",
            "[nltk_data]    | Downloading package semcor to /root/nltk_data...\n",
            "[nltk_data]    | Downloading package senseval to /root/nltk_data...\n",
            "[nltk_data]    |   Unzipping corpora/senseval.zip.\n",
            "[nltk_data]    | Downloading package sentence_polarity to\n",
            "[nltk_data]    |     /root/nltk_data...\n",
            "[nltk_data]    |   Unzipping corpora/sentence_polarity.zip.\n",
            "[nltk_data]    | Downloading package sentiwordnet to\n",
            "[nltk_data]    |     /root/nltk_data...\n",
            "[nltk_data]    |   Unzipping corpora/sentiwordnet.zip.\n",
            "[nltk_data]    | Downloading package shakespeare to /root/nltk_data...\n",
            "[nltk_data]    |   Unzipping corpora/shakespeare.zip.\n",
            "[nltk_data]    | Downloading package sinica_treebank to\n",
            "[nltk_data]    |     /root/nltk_data...\n",
            "[nltk_data]    |   Unzipping corpora/sinica_treebank.zip.\n",
            "[nltk_data]    | Downloading package smultron to /root/nltk_data...\n",
            "[nltk_data]    |   Unzipping corpora/smultron.zip.\n",
            "[nltk_data]    | Downloading package snowball_data to\n",
            "[nltk_data]    |     /root/nltk_data...\n",
            "[nltk_data]    | Downloading package spanish_grammars to\n",
            "[nltk_data]    |     /root/nltk_data...\n",
            "[nltk_data]    |   Unzipping grammars/spanish_grammars.zip.\n",
            "[nltk_data]    | Downloading package state_union to /root/nltk_data...\n",
            "[nltk_data]    |   Unzipping corpora/state_union.zip.\n",
            "[nltk_data]    | Downloading package stopwords to /root/nltk_data...\n",
            "[nltk_data]    |   Unzipping corpora/stopwords.zip.\n",
            "[nltk_data]    | Downloading package subjectivity to\n",
            "[nltk_data]    |     /root/nltk_data...\n",
            "[nltk_data]    |   Unzipping corpora/subjectivity.zip.\n",
            "[nltk_data]    | Downloading package swadesh to /root/nltk_data...\n",
            "[nltk_data]    |   Unzipping corpora/swadesh.zip.\n",
            "[nltk_data]    | Downloading package switchboard to /root/nltk_data...\n",
            "[nltk_data]    |   Unzipping corpora/switchboard.zip.\n",
            "[nltk_data]    | Downloading package tagsets to /root/nltk_data...\n",
            "[nltk_data]    |   Unzipping help/tagsets.zip.\n",
            "[nltk_data]    | Downloading package timit to /root/nltk_data...\n",
            "[nltk_data]    |   Unzipping corpora/timit.zip.\n",
            "[nltk_data]    | Downloading package toolbox to /root/nltk_data...\n",
            "[nltk_data]    |   Unzipping corpora/toolbox.zip.\n",
            "[nltk_data]    | Downloading package treebank to /root/nltk_data...\n",
            "[nltk_data]    |   Unzipping corpora/treebank.zip.\n",
            "[nltk_data]    | Downloading package twitter_samples to\n",
            "[nltk_data]    |     /root/nltk_data...\n",
            "[nltk_data]    |   Unzipping corpora/twitter_samples.zip.\n",
            "[nltk_data]    | Downloading package udhr to /root/nltk_data...\n",
            "[nltk_data]    |   Unzipping corpora/udhr.zip.\n",
            "[nltk_data]    | Downloading package udhr2 to /root/nltk_data...\n",
            "[nltk_data]    |   Unzipping corpora/udhr2.zip.\n",
            "[nltk_data]    | Downloading package unicode_samples to\n",
            "[nltk_data]    |     /root/nltk_data...\n",
            "[nltk_data]    |   Unzipping corpora/unicode_samples.zip.\n",
            "[nltk_data]    | Downloading package universal_tagset to\n",
            "[nltk_data]    |     /root/nltk_data...\n",
            "[nltk_data]    |   Unzipping taggers/universal_tagset.zip.\n",
            "[nltk_data]    | Downloading package universal_treebanks_v20 to\n",
            "[nltk_data]    |     /root/nltk_data...\n",
            "[nltk_data]    | Downloading package vader_lexicon to\n",
            "[nltk_data]    |     /root/nltk_data...\n",
            "[nltk_data]    | Downloading package verbnet to /root/nltk_data...\n",
            "[nltk_data]    |   Unzipping corpora/verbnet.zip.\n",
            "[nltk_data]    | Downloading package verbnet3 to /root/nltk_data...\n",
            "[nltk_data]    |   Unzipping corpora/verbnet3.zip.\n",
            "[nltk_data]    | Downloading package webtext to /root/nltk_data...\n",
            "[nltk_data]    |   Unzipping corpora/webtext.zip.\n",
            "[nltk_data]    | Downloading package wmt15_eval to /root/nltk_data...\n",
            "[nltk_data]    |   Unzipping models/wmt15_eval.zip.\n",
            "[nltk_data]    | Downloading package word2vec_sample to\n",
            "[nltk_data]    |     /root/nltk_data...\n",
            "[nltk_data]    |   Unzipping models/word2vec_sample.zip.\n",
            "[nltk_data]    | Downloading package wordnet to /root/nltk_data...\n",
            "[nltk_data]    |   Package wordnet is already up-to-date!\n",
            "[nltk_data]    | Downloading package wordnet2021 to /root/nltk_data...\n",
            "[nltk_data]    | Downloading package wordnet31 to /root/nltk_data...\n",
            "[nltk_data]    | Downloading package wordnet_ic to /root/nltk_data...\n",
            "[nltk_data]    |   Unzipping corpora/wordnet_ic.zip.\n",
            "[nltk_data]    | Downloading package words to /root/nltk_data...\n",
            "[nltk_data]    |   Unzipping corpora/words.zip.\n",
            "[nltk_data]    | Downloading package ycoe to /root/nltk_data...\n",
            "[nltk_data]    |   Unzipping corpora/ycoe.zip.\n",
            "[nltk_data]    | \n",
            "[nltk_data]  Done downloading collection all\n"
          ]
        },
        {
          "output_type": "execute_result",
          "data": {
            "text/plain": [
              "True"
            ]
          },
          "metadata": {},
          "execution_count": 9
        }
      ]
    },
    {
      "cell_type": "code",
      "execution_count": 10,
      "metadata": {
        "id": "qkB46Ym3IWej",
        "outputId": "8522012a-ec70-4ec0-cd12-28c467dee9ba",
        "colab": {
          "base_uri": "https://localhost:8080/"
        }
      },
      "outputs": [
        {
          "output_type": "execute_result",
          "data": {
            "text/plain": [
              "[Synset('plan.n.01'),\n",
              " Synset('program.n.02'),\n",
              " Synset('broadcast.n.02'),\n",
              " Synset('platform.n.02'),\n",
              " Synset('program.n.05'),\n",
              " Synset('course_of_study.n.01'),\n",
              " Synset('program.n.07'),\n",
              " Synset('program.n.08'),\n",
              " Synset('program.v.01'),\n",
              " Synset('program.v.02')]"
            ]
          },
          "metadata": {},
          "execution_count": 10
        }
      ],
      "source": [
        "from nltk.corpus import wordnet \n",
        "syns = wordnet.synsets(\"program\")\n",
        "syns\n"
      ]
    },
    {
      "cell_type": "code",
      "execution_count": 11,
      "metadata": {
        "id": "1zUFO6mIIWes",
        "outputId": "fbb3ac9c-38b8-4481-cc2a-61fa05ac44c0",
        "colab": {
          "base_uri": "https://localhost:8080/"
        }
      },
      "outputs": [
        {
          "output_type": "execute_result",
          "data": {
            "text/plain": [
              "Synset('plan.n.01')"
            ]
          },
          "metadata": {},
          "execution_count": 11
        }
      ],
      "source": [
        "syns[0]"
      ]
    },
    {
      "cell_type": "code",
      "execution_count": 12,
      "metadata": {
        "id": "aRz65RIMIWet",
        "outputId": "a19234ef-442e-472a-a782-11867fc2ea9f",
        "colab": {
          "base_uri": "https://localhost:8080/",
          "height": 35
        }
      },
      "outputs": [
        {
          "output_type": "execute_result",
          "data": {
            "text/plain": [
              "'plan.n.01'"
            ],
            "application/vnd.google.colaboratory.intrinsic+json": {
              "type": "string"
            }
          },
          "metadata": {},
          "execution_count": 12
        }
      ],
      "source": [
        "syns[0].name()"
      ]
    },
    {
      "cell_type": "code",
      "execution_count": 13,
      "metadata": {
        "id": "c9pASQBoIWeu",
        "outputId": "fc931978-88e7-4fbf-ef4b-66201371aa6d",
        "colab": {
          "base_uri": "https://localhost:8080/",
          "height": 35
        }
      },
      "outputs": [
        {
          "output_type": "execute_result",
          "data": {
            "text/plain": [
              "'plan'"
            ],
            "application/vnd.google.colaboratory.intrinsic+json": {
              "type": "string"
            }
          },
          "metadata": {},
          "execution_count": 13
        }
      ],
      "source": [
        "syns[0].lemmas()[0].name()"
      ]
    },
    {
      "cell_type": "code",
      "execution_count": 14,
      "metadata": {
        "id": "AitWi9_lIWev",
        "outputId": "632b5fe0-52ce-49fc-d53c-c53a4953d56e",
        "colab": {
          "base_uri": "https://localhost:8080/"
        }
      },
      "outputs": [
        {
          "output_type": "stream",
          "name": "stdout",
          "text": [
            "a series of steps to be carried out or goals to be accomplished\n"
          ]
        }
      ],
      "source": [
        "print(syns[0].definition())"
      ]
    },
    {
      "cell_type": "code",
      "execution_count": 15,
      "metadata": {
        "id": "_krMr4emIWev",
        "outputId": "f1465b74-99b2-4bee-b44d-4727a2d9f405",
        "colab": {
          "base_uri": "https://localhost:8080/"
        }
      },
      "outputs": [
        {
          "output_type": "stream",
          "name": "stdout",
          "text": [
            "['they drew up a six-step plan', 'they discussed plans for a new bond issue']\n"
          ]
        }
      ],
      "source": [
        "print(syns[0].examples())"
      ]
    },
    {
      "cell_type": "code",
      "execution_count": null,
      "metadata": {
        "id": "0KgOeU3FIWew"
      },
      "outputs": [],
      "source": []
    },
    {
      "cell_type": "code",
      "execution_count": 16,
      "metadata": {
        "id": "vU8klkZZIWez",
        "outputId": "c385b21c-8a86-4992-9524-68b8f84269f7",
        "colab": {
          "base_uri": "https://localhost:8080/"
        }
      },
      "outputs": [
        {
          "output_type": "execute_result",
          "data": {
            "text/plain": [
              "[Synset('dog.n.01'),\n",
              " Synset('frump.n.01'),\n",
              " Synset('dog.n.03'),\n",
              " Synset('cad.n.01'),\n",
              " Synset('frank.n.02'),\n",
              " Synset('pawl.n.01'),\n",
              " Synset('andiron.n.01'),\n",
              " Synset('chase.v.01')]"
            ]
          },
          "metadata": {},
          "execution_count": 16
        }
      ],
      "source": [
        "from nltk.corpus import wordnet as wn\n",
        "wn.synsets('dog')\n"
      ]
    },
    {
      "cell_type": "code",
      "execution_count": 17,
      "metadata": {
        "id": "wPaZr46aIWe0",
        "outputId": "a9d6d8c9-fff4-4f93-d35f-8d7e6604818a",
        "colab": {
          "base_uri": "https://localhost:8080/"
        }
      },
      "outputs": [
        {
          "output_type": "stream",
          "name": "stdout",
          "text": [
            "Synset('dog.n.01')\n",
            "a member of the genus Canis (probably descended from the common wolf) that has been domesticated by man since prehistoric times; occurs in many breeds\n",
            "------------------------------\n",
            "Synset('frump.n.01')\n",
            "a dull unattractive unpleasant girl or woman\n",
            "------------------------------\n",
            "Synset('dog.n.03')\n",
            "informal term for a man\n",
            "------------------------------\n",
            "Synset('cad.n.01')\n",
            "someone who is morally reprehensible\n",
            "------------------------------\n",
            "Synset('frank.n.02')\n",
            "a smooth-textured sausage of minced beef or pork usually smoked; often served on a bread roll\n",
            "------------------------------\n",
            "Synset('pawl.n.01')\n",
            "a hinged catch that fits into a notch of a ratchet to move a wheel forward or prevent it from moving backward\n",
            "------------------------------\n",
            "Synset('andiron.n.01')\n",
            "metal supports for logs in a fireplace\n",
            "------------------------------\n",
            "Synset('chase.v.01')\n",
            "go after with the intent to catch\n",
            "------------------------------\n"
          ]
        }
      ],
      "source": [
        "for i in range(len(wn.synsets('dog'))) : \n",
        "    print(wn.synsets('dog')[i])\n",
        "    print(wn.synsets('dog')[i].definition())\n",
        "    print('------------------------------')"
      ]
    },
    {
      "cell_type": "code",
      "execution_count": null,
      "metadata": {
        "id": "DRe53AlMIWe4"
      },
      "outputs": [],
      "source": []
    },
    {
      "cell_type": "code",
      "execution_count": 18,
      "metadata": {
        "id": "UanJlcT4IWe4",
        "outputId": "5cfbf13e-6c5a-4251-d3ae-e34850c8d9cb",
        "colab": {
          "base_uri": "https://localhost:8080/"
        }
      },
      "outputs": [
        {
          "output_type": "execute_result",
          "data": {
            "text/plain": [
              "[Synset('school.n.01'),\n",
              " Synset('school.n.02'),\n",
              " Synset('school.n.03'),\n",
              " Synset('school.n.04'),\n",
              " Synset('school.n.05'),\n",
              " Synset('school.n.06'),\n",
              " Synset('school.n.07'),\n",
              " Synset('school.v.01'),\n",
              " Synset('educate.v.03'),\n",
              " Synset('school.v.03')]"
            ]
          },
          "metadata": {},
          "execution_count": 18
        }
      ],
      "source": [
        "wn.synsets('school')"
      ]
    },
    {
      "cell_type": "code",
      "execution_count": 19,
      "metadata": {
        "id": "DPWR2MZ5IWe5",
        "outputId": "6ebc30e6-7eee-4e94-ad09-dbe4c6f33725",
        "colab": {
          "base_uri": "https://localhost:8080/"
        }
      },
      "outputs": [
        {
          "output_type": "execute_result",
          "data": {
            "text/plain": [
              "[Synset('like.n.01'),\n",
              " Synset('like.n.02'),\n",
              " Synset('wish.v.02'),\n",
              " Synset('like.v.02'),\n",
              " Synset('like.v.03'),\n",
              " Synset('like.v.04'),\n",
              " Synset('like.v.05'),\n",
              " Synset('like.a.01'),\n",
              " Synset('like.a.02'),\n",
              " Synset('alike.a.01'),\n",
              " Synset('comparable.s.02')]"
            ]
          },
          "metadata": {},
          "execution_count": 19
        }
      ],
      "source": [
        "wn.synsets('like')"
      ]
    },
    {
      "cell_type": "code",
      "execution_count": 20,
      "metadata": {
        "id": "iO4SZ_itIWe6",
        "outputId": "1f75cadf-02c8-4179-f3af-2ef3efc13675",
        "colab": {
          "base_uri": "https://localhost:8080/",
          "height": 35
        }
      },
      "outputs": [
        {
          "output_type": "execute_result",
          "data": {
            "text/plain": [
              "'metal supports for logs in a fireplace'"
            ],
            "application/vnd.google.colaboratory.intrinsic+json": {
              "type": "string"
            }
          },
          "metadata": {},
          "execution_count": 20
        }
      ],
      "source": [
        "wn.synset('andiron.n.01').definition()"
      ]
    },
    {
      "cell_type": "code",
      "execution_count": 21,
      "metadata": {
        "scrolled": true,
        "id": "fgl0Q091IWe8",
        "outputId": "d1c00b87-124a-4673-bbbf-2e30cca90004",
        "colab": {
          "base_uri": "https://localhost:8080/"
        }
      },
      "outputs": [
        {
          "output_type": "stream",
          "name": "stdout",
          "text": [
            "definition : a room or building equipped with one or more toilets\n",
            "-----------------\n",
            "examples : []\n",
            "=========================================\n",
            "definition : youngest son of Henry II; King of England from 1199 to 1216; succeeded to the throne on the death of his brother Richard I; lost his French possessions; in 1215 John was compelled by the barons to sign the Magna Carta (1167-1216)\n",
            "-----------------\n",
            "examples : []\n",
            "=========================================\n",
            "definition : (New Testament) disciple of Jesus; traditionally said to be the author of the 4th Gospel and three epistles and the book of Revelation\n",
            "-----------------\n",
            "examples : []\n",
            "=========================================\n",
            "definition : a prostitute's customer\n",
            "-----------------\n",
            "examples : []\n",
            "=========================================\n",
            "definition : the last of the four Gospels in the New Testament\n",
            "-----------------\n",
            "examples : []\n",
            "=========================================\n"
          ]
        }
      ],
      "source": [
        "# word = 'cat'\n",
        "# word = 'egypt'\n",
        "word = 'john'\n",
        "# word = 'hitler'\n",
        "# word = 'earth'\n",
        "\n",
        "for i in wn.synsets(word) : \n",
        "    print(f'definition : {i.definition()}')\n",
        "    print('-----------------')\n",
        "    print(f'examples : {i.examples()}')\n",
        "    print('=========================================')"
      ]
    },
    {
      "cell_type": "code",
      "execution_count": null,
      "metadata": {
        "id": "eklo8gfdIWe8"
      },
      "outputs": [],
      "source": []
    },
    {
      "cell_type": "code",
      "execution_count": 22,
      "metadata": {
        "id": "XG45GE63IWe9",
        "outputId": "f0b2ad55-eb45-46d4-860e-57df4823391e",
        "colab": {
          "base_uri": "https://localhost:8080/"
        }
      },
      "outputs": [
        {
          "output_type": "stream",
          "name": "stdout",
          "text": [
            "{'dear', 'secure', 'near', 'serious', 'estimable', 'thoroughly', 'just', 'adept', 'undecomposed', 'practiced', 'honest', 'beneficial', 'skillful', 'effective', 'skilful', 'dependable', 'soundly', 'salutary', 'trade_good', 'respectable', 'honorable', 'well', 'ripe', 'unspoilt', 'full', 'in_force', 'commodity', 'upright', 'safe', 'unspoiled', 'right', 'good', 'goodness', 'expert', 'proficient', 'in_effect', 'sound'}\n",
            "------------------------------------\n",
            "{'bad', 'ill', 'badness', 'evil', 'evilness'}\n"
          ]
        }
      ],
      "source": [
        "synonyms = []\n",
        "antonyms = []\n",
        "\n",
        "for syn in wordnet.synsets(\"good\"):\n",
        "    for l in syn.lemmas():\n",
        "        synonyms.append(l.name())\n",
        "        if l.antonyms():\n",
        "            antonyms.append(l.antonyms()[0].name())\n",
        "\n",
        "print(set(synonyms))\n",
        "print('------------------------------------')\n",
        "print(set(antonyms))"
      ]
    },
    {
      "cell_type": "code",
      "execution_count": null,
      "metadata": {
        "id": "UD1x99cxIWe-"
      },
      "outputs": [],
      "source": []
    },
    {
      "cell_type": "code",
      "execution_count": 23,
      "metadata": {
        "id": "omQSzIqMIWe-",
        "outputId": "db05a6e7-934a-4247-c1cc-734162997a10",
        "colab": {
          "base_uri": "https://localhost:8080/"
        }
      },
      "outputs": [
        {
          "output_type": "stream",
          "name": "stdout",
          "text": [
            "word : I\n",
            "\n",
            "synonyms : {'ane', 'atomic_number_53', 'I', 'ace', '1', 'unity', 'single', 'i', 'iodin', 'iodine', 'one'}\n",
            "===========================================\n",
            "word : need\n",
            "\n",
            "synonyms : {'require', 'call_for', 'motivation', 'need', 'want', 'motive', 'ask', 'postulate', 'take', 'involve', 'necessitate', 'indigence', 'penury', 'pauperism', 'demand', 'pauperization'}\n",
            "===========================================\n",
            "word : to\n",
            "===========================================\n",
            "word : go\n",
            "\n",
            "synonyms : {'drop_dead', 'turn', 'run', 'expire', 'run_short', 'whirl', 'locomote', 'function', 'pop_off', 'croak', 'hold_up', 'plump', 'break', 'operate', 'die', 'rifle', 'fit', 'tour', 'move', 'extend', 'spell', 'fling', 'pass', 'travel', 'become', 'proceed', 'go', 'endure', 'pass_away', 'last', 'give_way', 'live_on', 'fail', 'break_down', 'depart', 'get', 'crack', \"cash_in_one's_chips\", 'hug_drug', 'choke', 'belong', 'perish', 'run_low', 'snuff_it', 'X', 'exit', 'kick_the_bucket', 'blend', 'XTC', 'get_going', 'go_away', 'give_out', 'disco_biscuit', 'ecstasy', 'hold_out', 'decease', 'conk_out', 'cristal', 'go_bad', 'blend_in', 'live', 'work', 'go_game', 'survive', 'conk', 'sound', 'give-up_the_ghost', 'start', 'buy_the_farm', 'Adam', 'lead', 'offer'}\n",
            "\n",
            "antonyms : {'stop', 'malfunction', 'come', 'no-go', 'stay_in_place', 'be_born'}\n",
            "\n",
            "===========================================\n",
            "word : right\n",
            "\n",
            "synonyms : {'right_field', 'decent', 'mighty', 'flop', 'veracious', 'right_wing', 'right-hand', 'compensate', 'rectify', 'properly', 'the_right_way', 'right_hand', 'right_on', 'rightfield', 'mightily', 'correct', 'decently', 'justly', 'rightfulness', 'ripe', 'powerful', 'in_good_order', 'right', 'proper', 'correctly', 'good', 'redress', 'aright'}\n",
            "===========================================\n",
            "word : now\n",
            "\n",
            "synonyms : {'directly', 'straightaway', 'straight_off', 'at_once', 'instantly', 'like_a_shot', 'immediately', 'at_present', 'forthwith', 'nowadays', 'now', 'today', 'right_away'}\n",
            "===========================================\n",
            "word : to\n",
            "===========================================\n",
            "word : my\n",
            "===========================================\n",
            "word : friend\n",
            "\n",
            "synonyms : {'acquaintance', 'protagonist', 'Quaker', 'Friend', 'supporter', 'ally', 'admirer', 'friend', 'champion', 'booster'}\n",
            "===========================================\n",
            "word : Hasan\n",
            "===========================================\n"
          ]
        }
      ],
      "source": [
        "from nltk.tokenize import word_tokenize\n",
        "\n",
        "\n",
        "text = 'I need to go right now to my friend Hasan'\n",
        "\n",
        "for word in word_tokenize(text) : \n",
        "    synonyms = []\n",
        "    antonyms = []\n",
        "    \n",
        "\n",
        "    for syn in wordnet.synsets(word):\n",
        "        for l in syn.lemmas():\n",
        "            synonyms.append(l.name())\n",
        "            if l.antonyms():\n",
        "                antonyms.append(l.antonyms()[0].name())\n",
        "\n",
        "    print(f'word : {word}')\n",
        "    if len(synonyms) >1 :print(f'\\nsynonyms : {set(synonyms)}')\n",
        "    if l.antonyms(): print(f'\\nantonyms : {set(antonyms)}\\n')\n",
        "    print('===========================================')\n",
        "    "
      ]
    },
    {
      "cell_type": "code",
      "execution_count": 24,
      "metadata": {
        "id": "soooaf9UIWe_",
        "outputId": "9ac6eeca-1303-46bf-fefc-06352dba0609",
        "colab": {
          "base_uri": "https://localhost:8080/"
        }
      },
      "outputs": [
        {
          "output_type": "stream",
          "name": "stdout",
          "text": [
            "Syn (lion.n.01) and (place.n.06) with similarity 0.09090909090909091\n"
          ]
        }
      ],
      "source": [
        "# word1 = 'green'\n",
        "# word2 = 'blue'\n",
        "\n",
        "# word1 = 'moon'\n",
        "# word2 = 'sun'\n",
        "\n",
        "# word1 = 'water'\n",
        "# word2 = 'air'\n",
        "\n",
        "# word1 = 'france'\n",
        "# word2 = 'paris'\n",
        "\n",
        "word1 = 'lion'\n",
        "word2 = 'shoes'\n",
        "\n",
        "\n",
        "w1 = wordnet.synset(wordnet.synsets(word1)[0].name())\n",
        "w2 = wordnet.synset(wordnet.synsets(word2)[0].name())\n",
        "print(f'Syn ({wordnet.synsets(word1)[0].name()}) and ({wordnet.synsets(word2)[0].name()}) with similarity {w1.wup_similarity(w2)}')"
      ]
    },
    {
      "cell_type": "code",
      "execution_count": 25,
      "metadata": {
        "id": "AMUy_myGIWfE",
        "outputId": "d8c14a17-6466-43b5-92fe-7230a5a572fd",
        "colab": {
          "base_uri": "https://localhost:8080/"
        }
      },
      "outputs": [
        {
          "output_type": "stream",
          "name": "stdout",
          "text": [
            "Syn (iodine.n.01) and (iodine.n.01) with similarity 1.0\n",
            "----------------------------------------\n",
            "Syn (iodine.n.01) and (travel.v.01) with similarity 0.25\n",
            "----------------------------------------\n",
            "Syn (iodine.n.01) and (school.n.01) with similarity 0.46153846153846156\n",
            "----------------------------------------\n",
            "Syn (iodine.n.01) and (day.n.01) with similarity 0.4\n",
            "----------------------------------------\n",
            "Syn (iodine.n.01) and (talk.n.01) with similarity 0.3333333333333333\n",
            "----------------------------------------\n",
            "Syn (iodine.n.01) and (teacher.n.01) with similarity 0.2857142857142857\n",
            "----------------------------------------\n",
            "Syn (travel.v.01) and (iodine.n.01) with similarity 0.25\n",
            "----------------------------------------\n",
            "Syn (travel.v.01) and (travel.v.01) with similarity 1.0\n",
            "----------------------------------------\n",
            "Syn (travel.v.01) and (school.n.01) with similarity 0.18181818181818182\n",
            "----------------------------------------\n",
            "Syn (travel.v.01) and (day.n.01) with similarity 0.25\n",
            "----------------------------------------\n",
            "Syn (travel.v.01) and (talk.n.01) with similarity 0.2\n",
            "----------------------------------------\n",
            "Syn (travel.v.01) and (teacher.n.01) with similarity 0.16666666666666666\n",
            "----------------------------------------\n",
            "Syn (school.n.01) and (iodine.n.01) with similarity 0.46153846153846156\n",
            "----------------------------------------\n",
            "Syn (school.n.01) and (travel.v.01) with similarity 0.18181818181818182\n",
            "----------------------------------------\n",
            "Syn (school.n.01) and (school.n.01) with similarity 1.0\n",
            "----------------------------------------\n",
            "Syn (school.n.01) and (day.n.01) with similarity 0.3076923076923077\n",
            "----------------------------------------\n",
            "Syn (school.n.01) and (talk.n.01) with similarity 0.26666666666666666\n",
            "----------------------------------------\n",
            "Syn (school.n.01) and (teacher.n.01) with similarity 0.125\n",
            "----------------------------------------\n",
            "Syn (day.n.01) and (iodine.n.01) with similarity 0.4\n",
            "----------------------------------------\n",
            "Syn (day.n.01) and (travel.v.01) with similarity 0.25\n",
            "----------------------------------------\n",
            "Syn (day.n.01) and (school.n.01) with similarity 0.3076923076923077\n",
            "----------------------------------------\n",
            "Syn (day.n.01) and (day.n.01) with similarity 1.0\n",
            "----------------------------------------\n",
            "Syn (day.n.01) and (talk.n.01) with similarity 0.3333333333333333\n",
            "----------------------------------------\n",
            "Syn (day.n.01) and (teacher.n.01) with similarity 0.15384615384615385\n",
            "----------------------------------------\n",
            "Syn (talk.n.01) and (iodine.n.01) with similarity 0.3333333333333333\n",
            "----------------------------------------\n",
            "Syn (talk.n.01) and (travel.v.01) with similarity 0.2\n",
            "----------------------------------------\n",
            "Syn (talk.n.01) and (school.n.01) with similarity 0.26666666666666666\n",
            "----------------------------------------\n",
            "Syn (talk.n.01) and (day.n.01) with similarity 0.3333333333333333\n",
            "----------------------------------------\n",
            "Syn (talk.n.01) and (talk.n.01) with similarity 1.0\n",
            "----------------------------------------\n",
            "Syn (talk.n.01) and (teacher.n.01) with similarity 0.13333333333333333\n",
            "----------------------------------------\n",
            "Syn (teacher.n.01) and (iodine.n.01) with similarity 0.2857142857142857\n",
            "----------------------------------------\n",
            "Syn (teacher.n.01) and (travel.v.01) with similarity 0.16666666666666666\n",
            "----------------------------------------\n",
            "Syn (teacher.n.01) and (school.n.01) with similarity 0.125\n",
            "----------------------------------------\n",
            "Syn (teacher.n.01) and (day.n.01) with similarity 0.15384615384615385\n",
            "----------------------------------------\n",
            "Syn (teacher.n.01) and (talk.n.01) with similarity 0.13333333333333333\n",
            "----------------------------------------\n",
            "Syn (teacher.n.01) and (teacher.n.01) with similarity 1.0\n",
            "----------------------------------------\n"
          ]
        }
      ],
      "source": [
        "text = 'I went to the school that day to talk to the teacher'\n",
        "\n",
        "for word1 in word_tokenize(text) : \n",
        "    for word2 in word_tokenize(text) :\n",
        "        if len(wordnet.synsets(word1))>0 and len(wordnet.synsets(word2))>0  : \n",
        "            w1 = wordnet.synset(wordnet.synsets(word1)[0].name())\n",
        "            w2 = wordnet.synset(wordnet.synsets(word2)[0].name())\n",
        "            print(f'Syn ({wordnet.synsets(word1)[0].name()}) and ({wordnet.synsets(word2)[0].name()}) with similarity {w1.wup_similarity(w2)}')\n",
        "            print('----------------------------------------')"
      ]
    },
    {
      "cell_type": "code",
      "execution_count": 25,
      "metadata": {
        "id": "PfHQoJADIWfH"
      },
      "outputs": [],
      "source": []
    },
    {
      "cell_type": "code",
      "execution_count": null,
      "metadata": {
        "id": "WQYstKZ1IWfH"
      },
      "outputs": [],
      "source": []
    }
  ],
  "metadata": {
    "kernelspec": {
      "display_name": "Python 3",
      "language": "python",
      "name": "python3"
    },
    "language_info": {
      "codemirror_mode": {
        "name": "ipython",
        "version": 3
      },
      "file_extension": ".py",
      "mimetype": "text/x-python",
      "name": "python",
      "nbconvert_exporter": "python",
      "pygments_lexer": "ipython3",
      "version": "3.7.6"
    },
    "colab": {
      "provenance": []
    }
  },
  "nbformat": 4,
  "nbformat_minor": 0
}