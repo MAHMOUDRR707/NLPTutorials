{
  "nbformat": 4,
  "nbformat_minor": 0,
  "metadata": {
    "colab": {
      "provenance": []
    },
    "kernelspec": {
      "name": "python3",
      "display_name": "Python 3"
    },
    "language_info": {
      "name": "python"
    }
  },
  "cells": [
    {
      "cell_type": "code",
      "execution_count": 4,
      "metadata": {
        "colab": {
          "base_uri": "https://localhost:8080/"
        },
        "id": "ssXrME20vvMP",
        "outputId": "5e3dd1b8-1605-411d-e7dc-d0f253bbcadd"
      },
      "outputs": [
        {
          "output_type": "stream",
          "name": "stderr",
          "text": [
            "[nltk_data] Downloading package stopwords to /root/nltk_data...\n",
            "[nltk_data]   Unzipping corpora/stopwords.zip.\n"
          ]
        },
        {
          "output_type": "execute_result",
          "data": {
            "text/plain": [
              "True"
            ]
          },
          "metadata": {},
          "execution_count": 4
        }
      ],
      "source": [
        "import nltk \n",
        "import re\n",
        "import numpy\n",
        "from nltk.corpus import stopwords\n",
        "import nltk\n",
        "nltk.download('stopwords')"
      ]
    },
    {
      "cell_type": "code",
      "source": [
        "def word_extraction(sentence):\n",
        "    words = re.sub(\"[^\\w]\", \" \",  sentence).split()\n",
        "    cleaned_text = [w.lower() for w in words if w not in stopwords.words('english')]\n",
        "    return cleaned_text\n",
        "def tokenize(sentences):\n",
        "    words = []\n",
        "    for sentence in sentences:\n",
        "        w = word_extraction(sentence)\n",
        "        words.extend(w)\n",
        "    words = sorted(list(set(words)))\n",
        "    return words"
      ],
      "metadata": {
        "id": "O9i-5rihv1Rb"
      },
      "execution_count": 5,
      "outputs": []
    },
    {
      "cell_type": "code",
      "source": [
        "text = \"Mary and Samantha arrived at the bus station early but waited until noon for the bus\"\n",
        "word_extraction(text)\n",
        "\n",
        "tokenize(word_extraction(text))\n",
        "\n",
        "def generate_bow(allsentences):\n",
        "    vocab = tokenize(allsentences)\n",
        "    print(\"Word List for Document \\n{0} \\n\".format(vocab))\n",
        "    for sentence in allsentences:\n",
        "        words = word_extraction(sentence)\n",
        "        bag_vector = numpy.zeros(len(vocab))\n",
        "        for w in words:\n",
        "            for i,word in enumerate(vocab):\n",
        "                if word == w:\n",
        "                    bag_vector[i] += 1\n",
        "        print(\"{0}\\n{1}\\n\".format(sentence,numpy.array(bag_vector)))\n",
        "        print('---------------------------------------------------')"
      ],
      "metadata": {
        "id": "bPliiXASv3Z5"
      },
      "execution_count": 6,
      "outputs": []
    },
    {
      "cell_type": "code",
      "source": [
        "generate_bow(word_extraction(text))\n"
      ],
      "metadata": {
        "colab": {
          "base_uri": "https://localhost:8080/"
        },
        "id": "hVWpM4XHv88j",
        "outputId": "9842fcad-115d-4dd8-ee46-15121ee20cc2"
      },
      "execution_count": 7,
      "outputs": [
        {
          "output_type": "stream",
          "name": "stdout",
          "text": [
            "Word List for Document \n",
            "['arrived', 'bus', 'early', 'mary', 'noon', 'samantha', 'station', 'waited'] \n",
            "\n",
            "mary\n",
            "[0. 0. 0. 1. 0. 0. 0. 0.]\n",
            "\n",
            "---------------------------------------------------\n",
            "samantha\n",
            "[0. 0. 0. 0. 0. 1. 0. 0.]\n",
            "\n",
            "---------------------------------------------------\n",
            "arrived\n",
            "[1. 0. 0. 0. 0. 0. 0. 0.]\n",
            "\n",
            "---------------------------------------------------\n",
            "bus\n",
            "[0. 1. 0. 0. 0. 0. 0. 0.]\n",
            "\n",
            "---------------------------------------------------\n",
            "station\n",
            "[0. 0. 0. 0. 0. 0. 1. 0.]\n",
            "\n",
            "---------------------------------------------------\n",
            "early\n",
            "[0. 0. 1. 0. 0. 0. 0. 0.]\n",
            "\n",
            "---------------------------------------------------\n",
            "waited\n",
            "[0. 0. 0. 0. 0. 0. 0. 1.]\n",
            "\n",
            "---------------------------------------------------\n",
            "noon\n",
            "[0. 0. 0. 0. 1. 0. 0. 0.]\n",
            "\n",
            "---------------------------------------------------\n",
            "bus\n",
            "[0. 1. 0. 0. 0. 0. 0. 0.]\n",
            "\n",
            "---------------------------------------------------\n"
          ]
        }
      ]
    },
    {
      "cell_type": "code",
      "source": [
        "allsentences = [\"Joe waited for the train\",\n",
        "                \"The train was late\",\n",
        "                \"Mary and Samantha took the bus\",\n",
        "               \"I looked for Mary and Samantha at the bus station\",\n",
        "                \"Mary and Samantha arrived at the bus station early but waited until noon for the bus\"]\n",
        "generate_bow(allsentences)"
      ],
      "metadata": {
        "colab": {
          "base_uri": "https://localhost:8080/"
        },
        "id": "5OdF1f8NwENe",
        "outputId": "9baa40b8-4eab-43c7-e965-097d7c47be3e"
      },
      "execution_count": 8,
      "outputs": [
        {
          "output_type": "stream",
          "name": "stdout",
          "text": [
            "Word List for Document \n",
            "['arrived', 'bus', 'early', 'i', 'joe', 'late', 'looked', 'mary', 'noon', 'samantha', 'station', 'the', 'took', 'train', 'waited'] \n",
            "\n",
            "Joe waited for the train\n",
            "[0. 0. 0. 0. 1. 0. 0. 0. 0. 0. 0. 0. 0. 1. 1.]\n",
            "\n",
            "---------------------------------------------------\n",
            "The train was late\n",
            "[0. 0. 0. 0. 0. 1. 0. 0. 0. 0. 0. 1. 0. 1. 0.]\n",
            "\n",
            "---------------------------------------------------\n",
            "Mary and Samantha took the bus\n",
            "[0. 1. 0. 0. 0. 0. 0. 1. 0. 1. 0. 0. 1. 0. 0.]\n",
            "\n",
            "---------------------------------------------------\n",
            "I looked for Mary and Samantha at the bus station\n",
            "[0. 1. 0. 1. 0. 0. 1. 1. 0. 1. 1. 0. 0. 0. 0.]\n",
            "\n",
            "---------------------------------------------------\n",
            "Mary and Samantha arrived at the bus station early but waited until noon for the bus\n",
            "[1. 2. 1. 0. 0. 0. 0. 1. 1. 1. 1. 0. 0. 0. 1.]\n",
            "\n",
            "---------------------------------------------------\n"
          ]
        }
      ]
    },
    {
      "cell_type": "code",
      "source": [
        "from sklearn.feature_extraction.text import CountVectorizer\n",
        "\n",
        "vectorizer = CountVectorizer()\n",
        "X = vectorizer.fit_transform(allsentences)\n",
        "\n",
        "for i in range(len(allsentences)) : \n",
        "    print(allsentences[i])\n",
        "    print(list(X.toarray()[i]))\n",
        "    \n",
        "    print('---------------------------------------------------')"
      ],
      "metadata": {
        "colab": {
          "base_uri": "https://localhost:8080/"
        },
        "id": "1t36p06KwLQq",
        "outputId": "dcd15c67-ece1-443a-ac2d-b9cf3fee100e"
      },
      "execution_count": 9,
      "outputs": [
        {
          "output_type": "stream",
          "name": "stdout",
          "text": [
            "Joe waited for the train\n",
            "[0, 0, 0, 0, 0, 0, 1, 1, 0, 0, 0, 0, 0, 0, 1, 0, 1, 0, 1, 0]\n",
            "---------------------------------------------------\n",
            "The train was late\n",
            "[0, 0, 0, 0, 0, 0, 0, 0, 1, 0, 0, 0, 0, 0, 1, 0, 1, 0, 0, 1]\n",
            "---------------------------------------------------\n",
            "Mary and Samantha took the bus\n",
            "[1, 0, 0, 1, 0, 0, 0, 0, 0, 0, 1, 0, 1, 0, 1, 1, 0, 0, 0, 0]\n",
            "---------------------------------------------------\n",
            "I looked for Mary and Samantha at the bus station\n",
            "[1, 0, 1, 1, 0, 0, 1, 0, 0, 1, 1, 0, 1, 1, 1, 0, 0, 0, 0, 0]\n",
            "---------------------------------------------------\n",
            "Mary and Samantha arrived at the bus station early but waited until noon for the bus\n",
            "[1, 1, 1, 2, 1, 1, 1, 0, 0, 0, 1, 1, 1, 1, 2, 0, 0, 1, 1, 0]\n",
            "---------------------------------------------------\n"
          ]
        }
      ]
    },
    {
      "cell_type": "code",
      "source": [
        "text = \"ذهب محمد و شريف الي المدرسة هذا اليوم\"\n",
        "print(word_extraction(text))\n",
        "\n",
        "print(tokenize(word_extraction(text)))\n",
        "generate_bow(word_extraction(text))"
      ],
      "metadata": {
        "colab": {
          "base_uri": "https://localhost:8080/"
        },
        "id": "BOW8DMekwNiM",
        "outputId": "30bfca98-601a-4325-fd62-4e5fee53dddb"
      },
      "execution_count": 10,
      "outputs": [
        {
          "output_type": "stream",
          "name": "stdout",
          "text": [
            "['ذهب', 'محمد', 'و', 'شريف', 'الي', 'المدرسة', 'هذا', 'اليوم']\n",
            "['المدرسة', 'الي', 'اليوم', 'ذهب', 'شريف', 'محمد', 'هذا', 'و']\n",
            "Word List for Document \n",
            "['المدرسة', 'الي', 'اليوم', 'ذهب', 'شريف', 'محمد', 'هذا', 'و'] \n",
            "\n",
            "ذهب\n",
            "[0. 0. 0. 1. 0. 0. 0. 0.]\n",
            "\n",
            "---------------------------------------------------\n",
            "محمد\n",
            "[0. 0. 0. 0. 0. 1. 0. 0.]\n",
            "\n",
            "---------------------------------------------------\n",
            "و\n",
            "[0. 0. 0. 0. 0. 0. 0. 1.]\n",
            "\n",
            "---------------------------------------------------\n",
            "شريف\n",
            "[0. 0. 0. 0. 1. 0. 0. 0.]\n",
            "\n",
            "---------------------------------------------------\n",
            "الي\n",
            "[0. 1. 0. 0. 0. 0. 0. 0.]\n",
            "\n",
            "---------------------------------------------------\n",
            "المدرسة\n",
            "[1. 0. 0. 0. 0. 0. 0. 0.]\n",
            "\n",
            "---------------------------------------------------\n",
            "هذا\n",
            "[0. 0. 0. 0. 0. 0. 1. 0.]\n",
            "\n",
            "---------------------------------------------------\n",
            "اليوم\n",
            "[0. 0. 1. 0. 0. 0. 0. 0.]\n",
            "\n",
            "---------------------------------------------------\n"
          ]
        }
      ]
    },
    {
      "cell_type": "code",
      "source": [
        "allsentences = [\"ذهب محمد الي الجامعة\",\n",
        "                \"نجحت مني في الاختبار\",\n",
        "                \"تمكن محمد من السفر هذا اليوم\",\n",
        "               \"اعتقد ان جورج سيتصل بنا اليوم\",\n",
        "                \"لا اظن ان الاختبار سيكون سهلا\"]\n",
        "generate_bow(allsentences)"
      ],
      "metadata": {
        "colab": {
          "base_uri": "https://localhost:8080/"
        },
        "id": "Axyys_3ZwVsZ",
        "outputId": "fac173a2-c9e1-4e6c-9020-ea3762175725"
      },
      "execution_count": 12,
      "outputs": [
        {
          "output_type": "stream",
          "name": "stdout",
          "text": [
            "Word List for Document \n",
            "['اظن', 'اعتقد', 'الاختبار', 'الجامعة', 'السفر', 'الي', 'اليوم', 'ان', 'بنا', 'تمكن', 'جورج', 'ذهب', 'سهلا', 'سيتصل', 'سيكون', 'في', 'لا', 'محمد', 'من', 'مني', 'نجحت', 'هذا'] \n",
            "\n",
            "ذهب محمد الي الجامعة\n",
            "[0. 0. 0. 1. 0. 1. 0. 0. 0. 0. 0. 1. 0. 0. 0. 0. 0. 1. 0. 0. 0. 0.]\n",
            "\n",
            "---------------------------------------------------\n",
            "نجحت مني في الاختبار\n",
            "[0. 0. 1. 0. 0. 0. 0. 0. 0. 0. 0. 0. 0. 0. 0. 1. 0. 0. 0. 1. 1. 0.]\n",
            "\n",
            "---------------------------------------------------\n",
            "تمكن محمد من السفر هذا اليوم\n",
            "[0. 0. 0. 0. 1. 0. 1. 0. 0. 1. 0. 0. 0. 0. 0. 0. 0. 1. 1. 0. 0. 1.]\n",
            "\n",
            "---------------------------------------------------\n",
            "اعتقد ان جورج سيتصل بنا اليوم\n",
            "[0. 1. 0. 0. 0. 0. 1. 1. 1. 0. 1. 0. 0. 1. 0. 0. 0. 0. 0. 0. 0. 0.]\n",
            "\n",
            "---------------------------------------------------\n",
            "لا اظن ان الاختبار سيكون سهلا\n",
            "[1. 0. 1. 0. 0. 0. 0. 1. 0. 0. 0. 0. 1. 0. 1. 0. 1. 0. 0. 0. 0. 0.]\n",
            "\n",
            "---------------------------------------------------\n"
          ]
        }
      ]
    },
    {
      "cell_type": "code",
      "source": [
        "vectorizer = CountVectorizer()\n",
        "X = vectorizer.fit_transform(allsentences)\n",
        "\n",
        "for i in range(len(allsentences)) : \n",
        "    print(allsentences[i])\n",
        "    print(list(X.toarray()[i]))\n",
        "    print('---------------------------------------------------')"
      ],
      "metadata": {
        "colab": {
          "base_uri": "https://localhost:8080/"
        },
        "id": "a7sr46iVwcUZ",
        "outputId": "c057e529-ce2d-4a01-a378-267c6f0d3524"
      },
      "execution_count": 13,
      "outputs": [
        {
          "output_type": "stream",
          "name": "stdout",
          "text": [
            "ذهب محمد الي الجامعة\n",
            "[0, 0, 0, 1, 0, 1, 0, 0, 0, 0, 0, 1, 0, 0, 0, 0, 0, 1, 0, 0, 0, 0]\n",
            "---------------------------------------------------\n",
            "نجحت مني في الاختبار\n",
            "[0, 0, 1, 0, 0, 0, 0, 0, 0, 0, 0, 0, 0, 0, 0, 1, 0, 0, 0, 1, 1, 0]\n",
            "---------------------------------------------------\n",
            "تمكن محمد من السفر هذا اليوم\n",
            "[0, 0, 0, 0, 1, 0, 1, 0, 0, 1, 0, 0, 0, 0, 0, 0, 0, 1, 1, 0, 0, 1]\n",
            "---------------------------------------------------\n",
            "اعتقد ان جورج سيتصل بنا اليوم\n",
            "[0, 1, 0, 0, 0, 0, 1, 1, 1, 0, 1, 0, 0, 1, 0, 0, 0, 0, 0, 0, 0, 0]\n",
            "---------------------------------------------------\n",
            "لا اظن ان الاختبار سيكون سهلا\n",
            "[1, 0, 1, 0, 0, 0, 0, 1, 0, 0, 0, 0, 1, 0, 1, 0, 1, 0, 0, 0, 0, 0]\n",
            "---------------------------------------------------\n"
          ]
        }
      ]
    },
    {
      "cell_type": "code",
      "source": [],
      "metadata": {
        "id": "m9G3hj_AwhT9"
      },
      "execution_count": null,
      "outputs": []
    }
  ]
}