{
  "cells": [
    {
      "cell_type": "code",
      "execution_count": 1,
      "metadata": {
        "id": "68kdAuUbCG0U"
      },
      "outputs": [],
      "source": [
        "from sklearn.feature_extraction.text import TfidfVectorizer\n",
        "from sklearn.cluster import KMeans\n",
        "from sklearn.metrics import adjusted_rand_score"
      ]
    },
    {
      "cell_type": "code",
      "execution_count": 2,
      "metadata": {
        "id": "D9xMbocKCG0j"
      },
      "outputs": [],
      "source": [
        "documents = [\"This little kitty came to play when I was eating at a restaurant.\",\n",
        "             \"Merley has the best squooshy kitten belly.\",\n",
        "             \"Google Translate app is incredible.\",\n",
        "             \"If you open 100 tab in google you get a smiley face.\",\n",
        "             \"Best cat photo I've ever taken.\",\n",
        "             \"Climbing ninja cat.\",\n",
        "             \"Impressed with google map feedback.\",\n",
        "             \"Key promoter extension for Google Chrome.\"]"
      ]
    },
    {
      "cell_type": "code",
      "execution_count": 3,
      "metadata": {
        "id": "WRLWrE1VCG1A"
      },
      "outputs": [],
      "source": [
        "vectorizer = TfidfVectorizer(stop_words='english')\n",
        "X = vectorizer.fit_transform(documents)"
      ]
    },
    {
      "cell_type": "code",
      "execution_count": 4,
      "metadata": {
        "id": "QIwXn4vJCG1B",
        "outputId": "954f2d6f-828d-4a92-c8c8-d8e7b14c1966",
        "colab": {
          "base_uri": "https://localhost:8080/"
        }
      },
      "outputs": [
        {
          "output_type": "execute_result",
          "data": {
            "text/plain": [
              "KMeans(max_iter=100, n_clusters=2, n_init=1)"
            ]
          },
          "metadata": {},
          "execution_count": 4
        }
      ],
      "source": [
        "true_k = 2\n",
        "model = KMeans(n_clusters=true_k, init='k-means++', max_iter=100, n_init=1)\n",
        "model.fit(X)"
      ]
    },
    {
      "cell_type": "code",
      "execution_count": 5,
      "metadata": {
        "id": "xARbPAmGCG1G",
        "outputId": "b64f69fc-4eec-4216-ea51-bc1022a262f9",
        "colab": {
          "base_uri": "https://localhost:8080/"
        }
      },
      "outputs": [
        {
          "output_type": "stream",
          "name": "stdout",
          "text": [
            "Top terms per cluster:\n"
          ]
        }
      ],
      "source": [
        "print(\"Top terms per cluster:\")"
      ]
    },
    {
      "cell_type": "code",
      "execution_count": 6,
      "metadata": {
        "id": "NAGNvEk6CG1H",
        "outputId": "5dd047a5-4c01-440f-ea33-f9a7142b294c",
        "colab": {
          "base_uri": "https://localhost:8080/"
        }
      },
      "outputs": [
        {
          "output_type": "execute_result",
          "data": {
            "text/plain": [
              "array([[12, 31,  1, 11, 13, 19, 14,  6,  9, 25, 15, 16,  2, 28, 20, 10,\n",
              "         0, 22, 27, 29, 17, 18, 24, 26,  8,  4,  3, 21, 23,  7,  5, 30,\n",
              "        32],\n",
              "       [ 5, 21,  7, 32, 23, 30,  3,  4,  2,  6, 14,  1,  8,  9, 10, 11,\n",
              "        12, 13, 16, 15, 31, 17, 18, 19, 20, 22, 24, 25, 26, 27, 28, 29,\n",
              "         0]])"
            ]
          },
          "metadata": {},
          "execution_count": 6
        }
      ],
      "source": [
        "order_centroids = model.cluster_centers_.argsort()[:, ::-1]\n",
        "order_centroids"
      ]
    },
    {
      "cell_type": "code",
      "execution_count": 7,
      "metadata": {
        "id": "QpJuh7hhCG1J",
        "outputId": "ead37561-ed7a-432b-9537-f92f87b156aa",
        "colab": {
          "base_uri": "https://localhost:8080/"
        }
      },
      "outputs": [
        {
          "output_type": "stream",
          "name": "stderr",
          "text": [
            "/usr/local/lib/python3.7/dist-packages/sklearn/utils/deprecation.py:87: FutureWarning: Function get_feature_names is deprecated; get_feature_names is deprecated in 1.0 and will be removed in 1.2. Please use get_feature_names_out instead.\n",
            "  warnings.warn(msg, category=FutureWarning)\n"
          ]
        },
        {
          "output_type": "execute_result",
          "data": {
            "text/plain": [
              "['100',\n",
              " 'app',\n",
              " 'belly',\n",
              " 'best',\n",
              " 'came',\n",
              " 'cat',\n",
              " 'chrome',\n",
              " 'climbing',\n",
              " 'eating',\n",
              " 'extension',\n",
              " 'face',\n",
              " 'feedback',\n",
              " 'google',\n",
              " 'impressed',\n",
              " 'incredible',\n",
              " 'key',\n",
              " 'kitten',\n",
              " 'kitty',\n",
              " 'little',\n",
              " 'map',\n",
              " 'merley',\n",
              " 'ninja',\n",
              " 'open',\n",
              " 'photo',\n",
              " 'play',\n",
              " 'promoter',\n",
              " 'restaurant',\n",
              " 'smiley',\n",
              " 'squooshy',\n",
              " 'tab',\n",
              " 'taken',\n",
              " 'translate',\n",
              " 've']"
            ]
          },
          "metadata": {},
          "execution_count": 7
        }
      ],
      "source": [
        "terms = vectorizer.get_feature_names()\n",
        "terms"
      ]
    },
    {
      "cell_type": "code",
      "execution_count": 8,
      "metadata": {
        "id": "ylu4VOLRCG1L",
        "outputId": "685649ec-3d7e-4ad0-dd9c-0b8148922668",
        "colab": {
          "base_uri": "https://localhost:8080/"
        }
      },
      "outputs": [
        {
          "output_type": "stream",
          "name": "stdout",
          "text": [
            "Cluster 0:\n",
            " google\n",
            " translate\n",
            " app\n",
            " feedback\n",
            " impressed\n",
            " map\n",
            " incredible\n",
            " chrome\n",
            " extension\n",
            " promoter\n",
            "------------------------------------------\n",
            "Cluster 1:\n",
            " cat\n",
            " ninja\n",
            " climbing\n",
            " ve\n",
            " photo\n",
            " taken\n",
            " best\n",
            " came\n",
            " belly\n",
            " chrome\n",
            "------------------------------------------\n",
            "\n",
            "\n",
            "Prediction\n"
          ]
        }
      ],
      "source": [
        "for i in range(true_k):\n",
        "    print(\"Cluster %d:\" % i),\n",
        "    for ind in order_centroids[i, :10]:\n",
        "        print(' %s' % terms[ind]),\n",
        "    print('------------------------------------------')\n",
        "\n",
        "print(\"\\n\")\n",
        "print(\"Prediction\")"
      ]
    },
    {
      "cell_type": "code",
      "execution_count": 9,
      "metadata": {
        "id": "W49PThKlCG1N",
        "outputId": "2a26412f-7fe1-4ab8-ecc6-8cac3b198199",
        "colab": {
          "base_uri": "https://localhost:8080/"
        }
      },
      "outputs": [
        {
          "output_type": "stream",
          "name": "stdout",
          "text": [
            "[0]\n"
          ]
        }
      ],
      "source": [
        "Y = vectorizer.transform([\"chrome browser to open.\"])\n",
        "prediction = model.predict(Y)\n",
        "print(prediction)"
      ]
    },
    {
      "cell_type": "code",
      "execution_count": 10,
      "metadata": {
        "id": "b7lyUbyOCG1R",
        "outputId": "e12572c9-e319-47c7-b763-24c3e1e39360",
        "colab": {
          "base_uri": "https://localhost:8080/"
        }
      },
      "outputs": [
        {
          "output_type": "stream",
          "name": "stdout",
          "text": [
            "[1]\n"
          ]
        }
      ],
      "source": [
        "Y = vectorizer.transform([\"My cat is hungry.\"])\n",
        "prediction = model.predict(Y)\n",
        "print(prediction)\n"
      ]
    },
    {
      "cell_type": "code",
      "execution_count": 10,
      "metadata": {
        "id": "7eE9sTcJCG1S"
      },
      "outputs": [],
      "source": []
    },
    {
      "cell_type": "code",
      "execution_count": 10,
      "metadata": {
        "id": "WIMUxNUUCG1T"
      },
      "outputs": [],
      "source": []
    },
    {
      "cell_type": "code",
      "execution_count": 11,
      "metadata": {
        "id": "NwINao14CG1W"
      },
      "outputs": [],
      "source": [
        "documents = ['ذهبت الي المطعم البارحة',\n",
        "            'انقطع عني اتصال الانترنت',\n",
        "             'المطعم يقدم وجبات سيئة',\n",
        "             'الانترنت اصبح لغة العصر',\n",
        "             'وجبات المطعم مستواها ردئ' ,\n",
        "             'اتصال الانترنت لازال منقطع']"
      ]
    },
    {
      "cell_type": "code",
      "execution_count": 12,
      "metadata": {
        "id": "IE4XNnquCG1i"
      },
      "outputs": [],
      "source": [
        "vectorizer = TfidfVectorizer()\n",
        "X = vectorizer.fit_transform(documents)"
      ]
    },
    {
      "cell_type": "code",
      "execution_count": 13,
      "metadata": {
        "id": "z0d8A9EqCG1j",
        "outputId": "c6bbae3f-ce41-40a1-ac43-947e78a65a43",
        "colab": {
          "base_uri": "https://localhost:8080/"
        }
      },
      "outputs": [
        {
          "output_type": "execute_result",
          "data": {
            "text/plain": [
              "KMeans(max_iter=100, n_clusters=2, n_init=1)"
            ]
          },
          "metadata": {},
          "execution_count": 13
        }
      ],
      "source": [
        "true_k = 2\n",
        "model = KMeans(n_clusters=true_k, init='k-means++', max_iter=100, n_init=1)\n",
        "model.fit(X)"
      ]
    },
    {
      "cell_type": "code",
      "execution_count": 14,
      "metadata": {
        "id": "HPEYJM27CG1k",
        "outputId": "1054c43c-0ea7-4d49-8019-8c966f39182e",
        "colab": {
          "base_uri": "https://localhost:8080/"
        }
      },
      "outputs": [
        {
          "output_type": "stream",
          "name": "stdout",
          "text": [
            "Top terms per cluster:\n"
          ]
        }
      ],
      "source": [
        "print(\"Top terms per cluster:\")"
      ]
    },
    {
      "cell_type": "code",
      "execution_count": 15,
      "metadata": {
        "id": "1rbKi9akCG1m",
        "outputId": "d7af63d9-290e-4e4f-a649-a309c7bdd436",
        "colab": {
          "base_uri": "https://localhost:8080/"
        }
      },
      "outputs": [
        {
          "output_type": "execute_result",
          "data": {
            "text/plain": [
              "array([[ 5, 16, 17,  9, 14, 10,  3,  6,  8, 11,  7, 12, 13,  4, 15,  2,\n",
              "         1,  0],\n",
              "       [ 2,  0, 11,  7, 15, 12,  1, 13,  4,  5,  3, 17,  6, 16,  9, 10,\n",
              "        14,  8]])"
            ]
          },
          "metadata": {},
          "execution_count": 15
        }
      ],
      "source": [
        "order_centroids = model.cluster_centers_.argsort()[:, ::-1]\n",
        "order_centroids"
      ]
    },
    {
      "cell_type": "code",
      "execution_count": 16,
      "metadata": {
        "id": "7rdb2sGQCG1n",
        "outputId": "c059a9ec-eca3-4bd5-ead6-6bf35e7422af",
        "colab": {
          "base_uri": "https://localhost:8080/"
        }
      },
      "outputs": [
        {
          "output_type": "stream",
          "name": "stderr",
          "text": [
            "/usr/local/lib/python3.7/dist-packages/sklearn/utils/deprecation.py:87: FutureWarning: Function get_feature_names is deprecated; get_feature_names is deprecated in 1.0 and will be removed in 1.2. Please use get_feature_names_out instead.\n",
            "  warnings.warn(msg, category=FutureWarning)\n"
          ]
        },
        {
          "output_type": "execute_result",
          "data": {
            "text/plain": [
              "['اتصال',\n",
              " 'اصبح',\n",
              " 'الانترنت',\n",
              " 'البارحة',\n",
              " 'العصر',\n",
              " 'المطعم',\n",
              " 'الي',\n",
              " 'انقطع',\n",
              " 'ذهبت',\n",
              " 'ردئ',\n",
              " 'سيئة',\n",
              " 'عني',\n",
              " 'لازال',\n",
              " 'لغة',\n",
              " 'مستواها',\n",
              " 'منقطع',\n",
              " 'وجبات',\n",
              " 'يقدم']"
            ]
          },
          "metadata": {},
          "execution_count": 16
        }
      ],
      "source": [
        "terms = vectorizer.get_feature_names()\n",
        "terms"
      ]
    },
    {
      "cell_type": "code",
      "execution_count": 17,
      "metadata": {
        "id": "ibFmL88nCG1o",
        "outputId": "9a0ceb44-7edd-435f-bc63-d426f3ad739e",
        "colab": {
          "base_uri": "https://localhost:8080/"
        }
      },
      "outputs": [
        {
          "output_type": "stream",
          "name": "stdout",
          "text": [
            "Cluster 0:\n",
            " المطعم\n",
            " وجبات\n",
            " يقدم\n",
            " ردئ\n",
            " مستواها\n",
            " سيئة\n",
            " البارحة\n",
            " الي\n",
            " ذهبت\n",
            " عني\n",
            "------------------------------------------\n",
            "Cluster 1:\n",
            " الانترنت\n",
            " اتصال\n",
            " عني\n",
            " انقطع\n",
            " منقطع\n",
            " لازال\n",
            " اصبح\n",
            " لغة\n",
            " العصر\n",
            " المطعم\n",
            "------------------------------------------\n",
            "\n",
            "\n",
            "Prediction\n"
          ]
        }
      ],
      "source": [
        "for i in range(true_k):\n",
        "    print(\"Cluster %d:\" % i),\n",
        "    for ind in order_centroids[i, :10]:\n",
        "        print(' %s' % terms[ind]),\n",
        "    print('------------------------------------------')\n",
        "\n",
        "print(\"\\n\")\n",
        "print(\"Prediction\")"
      ]
    },
    {
      "cell_type": "code",
      "execution_count": 18,
      "metadata": {
        "id": "NLIN-GfHCG1p",
        "outputId": "dbe22c1a-8590-4390-a745-b636c48c0770",
        "colab": {
          "base_uri": "https://localhost:8080/"
        }
      },
      "outputs": [
        {
          "output_type": "stream",
          "name": "stdout",
          "text": [
            "[0]\n"
          ]
        }
      ],
      "source": [
        "Y = vectorizer.transform([\"وجبات المعطم صارت افضل\"])\n",
        "prediction = model.predict(Y)\n",
        "print(prediction)"
      ]
    },
    {
      "cell_type": "code",
      "execution_count": 19,
      "metadata": {
        "id": "p21g_1eDCG1r",
        "outputId": "a99a777b-2533-437d-d3c9-571cb50d894e",
        "colab": {
          "base_uri": "https://localhost:8080/"
        }
      },
      "outputs": [
        {
          "output_type": "stream",
          "name": "stdout",
          "text": [
            "[1]\n"
          ]
        }
      ],
      "source": [
        "Y = vectorizer.transform([\"ابن عمي ليس لديه اشتراك في الانترنت\"])\n",
        "prediction = model.predict(Y)\n",
        "print(prediction)\n"
      ]
    },
    {
      "cell_type": "code",
      "execution_count": 19,
      "metadata": {
        "id": "IWTK7myUCG1s"
      },
      "outputs": [],
      "source": []
    }
  ],
  "metadata": {
    "kernelspec": {
      "display_name": "Python 3",
      "language": "python",
      "name": "python3"
    },
    "language_info": {
      "codemirror_mode": {
        "name": "ipython",
        "version": 3
      },
      "file_extension": ".py",
      "mimetype": "text/x-python",
      "name": "python",
      "nbconvert_exporter": "python",
      "pygments_lexer": "ipython3",
      "version": "3.7.6"
    },
    "colab": {
      "provenance": []
    }
  },
  "nbformat": 4,
  "nbformat_minor": 0
}